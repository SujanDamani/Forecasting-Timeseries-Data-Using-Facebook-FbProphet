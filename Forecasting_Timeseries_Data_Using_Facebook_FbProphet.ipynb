{
  "nbformat": 4,
  "nbformat_minor": 0,
  "metadata": {
    "colab": {
      "name": "Forecasting Timeseries Data Using Facebook FbProphet",
      "provenance": [],
      "collapsed_sections": [],
      "authorship_tag": "ABX9TyNkXK9wyjn9A+fc5kT6pE51"
    },
    "kernelspec": {
      "name": "python3",
      "display_name": "Python 3"
    },
    "widgets": {
      "application/vnd.jupyter.widget-state+json": {
        "bfc18831e6eb444daf6c7497b0c3395e": {
          "model_module": "@jupyter-widgets/controls",
          "model_name": "HBoxModel",
          "state": {
            "_view_name": "HBoxView",
            "_dom_classes": [],
            "_model_name": "HBoxModel",
            "_view_module": "@jupyter-widgets/controls",
            "_model_module_version": "1.5.0",
            "_view_count": null,
            "_view_module_version": "1.5.0",
            "box_style": "",
            "layout": "IPY_MODEL_4de2c25af64b4b6f9ae4c0856160cedc",
            "_model_module": "@jupyter-widgets/controls",
            "children": [
              "IPY_MODEL_dea077057ff541c2a36f665477915cd7",
              "IPY_MODEL_311c6c703c5645258e71c269fcaaf1f5"
            ]
          }
        },
        "4de2c25af64b4b6f9ae4c0856160cedc": {
          "model_module": "@jupyter-widgets/base",
          "model_name": "LayoutModel",
          "state": {
            "_view_name": "LayoutView",
            "grid_template_rows": null,
            "right": null,
            "justify_content": null,
            "_view_module": "@jupyter-widgets/base",
            "overflow": null,
            "_model_module_version": "1.2.0",
            "_view_count": null,
            "flex_flow": null,
            "width": null,
            "min_width": null,
            "border": null,
            "align_items": null,
            "bottom": null,
            "_model_module": "@jupyter-widgets/base",
            "top": null,
            "grid_column": null,
            "overflow_y": null,
            "overflow_x": null,
            "grid_auto_flow": null,
            "grid_area": null,
            "grid_template_columns": null,
            "flex": null,
            "_model_name": "LayoutModel",
            "justify_items": null,
            "grid_row": null,
            "max_height": null,
            "align_content": null,
            "visibility": null,
            "align_self": null,
            "height": null,
            "min_height": null,
            "padding": null,
            "grid_auto_rows": null,
            "grid_gap": null,
            "max_width": null,
            "order": null,
            "_view_module_version": "1.2.0",
            "grid_template_areas": null,
            "object_position": null,
            "object_fit": null,
            "grid_auto_columns": null,
            "margin": null,
            "display": null,
            "left": null
          }
        },
        "dea077057ff541c2a36f665477915cd7": {
          "model_module": "@jupyter-widgets/controls",
          "model_name": "FloatProgressModel",
          "state": {
            "_view_name": "ProgressView",
            "style": "IPY_MODEL_64c18b704485403f9d63056665e0bc30",
            "_dom_classes": [],
            "description": "100%",
            "_model_name": "FloatProgressModel",
            "bar_style": "success",
            "max": 21,
            "_view_module": "@jupyter-widgets/controls",
            "_model_module_version": "1.5.0",
            "value": 21,
            "_view_count": null,
            "_view_module_version": "1.5.0",
            "orientation": "horizontal",
            "min": 0,
            "description_tooltip": null,
            "_model_module": "@jupyter-widgets/controls",
            "layout": "IPY_MODEL_fb7b90f26a60459a9106605271b57f0c"
          }
        },
        "311c6c703c5645258e71c269fcaaf1f5": {
          "model_module": "@jupyter-widgets/controls",
          "model_name": "HTMLModel",
          "state": {
            "_view_name": "HTMLView",
            "style": "IPY_MODEL_d5c1a448d9524edd94983fa93081554d",
            "_dom_classes": [],
            "description": "",
            "_model_name": "HTMLModel",
            "placeholder": "​",
            "_view_module": "@jupyter-widgets/controls",
            "_model_module_version": "1.5.0",
            "value": " 21/21 [01:43&lt;00:00,  4.95s/it]",
            "_view_count": null,
            "_view_module_version": "1.5.0",
            "description_tooltip": null,
            "_model_module": "@jupyter-widgets/controls",
            "layout": "IPY_MODEL_b1b9e5b4a3544021acfaf0e148924b8f"
          }
        },
        "64c18b704485403f9d63056665e0bc30": {
          "model_module": "@jupyter-widgets/controls",
          "model_name": "ProgressStyleModel",
          "state": {
            "_view_name": "StyleView",
            "_model_name": "ProgressStyleModel",
            "description_width": "initial",
            "_view_module": "@jupyter-widgets/base",
            "_model_module_version": "1.5.0",
            "_view_count": null,
            "_view_module_version": "1.2.0",
            "bar_color": null,
            "_model_module": "@jupyter-widgets/controls"
          }
        },
        "fb7b90f26a60459a9106605271b57f0c": {
          "model_module": "@jupyter-widgets/base",
          "model_name": "LayoutModel",
          "state": {
            "_view_name": "LayoutView",
            "grid_template_rows": null,
            "right": null,
            "justify_content": null,
            "_view_module": "@jupyter-widgets/base",
            "overflow": null,
            "_model_module_version": "1.2.0",
            "_view_count": null,
            "flex_flow": null,
            "width": null,
            "min_width": null,
            "border": null,
            "align_items": null,
            "bottom": null,
            "_model_module": "@jupyter-widgets/base",
            "top": null,
            "grid_column": null,
            "overflow_y": null,
            "overflow_x": null,
            "grid_auto_flow": null,
            "grid_area": null,
            "grid_template_columns": null,
            "flex": null,
            "_model_name": "LayoutModel",
            "justify_items": null,
            "grid_row": null,
            "max_height": null,
            "align_content": null,
            "visibility": null,
            "align_self": null,
            "height": null,
            "min_height": null,
            "padding": null,
            "grid_auto_rows": null,
            "grid_gap": null,
            "max_width": null,
            "order": null,
            "_view_module_version": "1.2.0",
            "grid_template_areas": null,
            "object_position": null,
            "object_fit": null,
            "grid_auto_columns": null,
            "margin": null,
            "display": null,
            "left": null
          }
        },
        "d5c1a448d9524edd94983fa93081554d": {
          "model_module": "@jupyter-widgets/controls",
          "model_name": "DescriptionStyleModel",
          "state": {
            "_view_name": "StyleView",
            "_model_name": "DescriptionStyleModel",
            "description_width": "",
            "_view_module": "@jupyter-widgets/base",
            "_model_module_version": "1.5.0",
            "_view_count": null,
            "_view_module_version": "1.2.0",
            "_model_module": "@jupyter-widgets/controls"
          }
        },
        "b1b9e5b4a3544021acfaf0e148924b8f": {
          "model_module": "@jupyter-widgets/base",
          "model_name": "LayoutModel",
          "state": {
            "_view_name": "LayoutView",
            "grid_template_rows": null,
            "right": null,
            "justify_content": null,
            "_view_module": "@jupyter-widgets/base",
            "overflow": null,
            "_model_module_version": "1.2.0",
            "_view_count": null,
            "flex_flow": null,
            "width": null,
            "min_width": null,
            "border": null,
            "align_items": null,
            "bottom": null,
            "_model_module": "@jupyter-widgets/base",
            "top": null,
            "grid_column": null,
            "overflow_y": null,
            "overflow_x": null,
            "grid_auto_flow": null,
            "grid_area": null,
            "grid_template_columns": null,
            "flex": null,
            "_model_name": "LayoutModel",
            "justify_items": null,
            "grid_row": null,
            "max_height": null,
            "align_content": null,
            "visibility": null,
            "align_self": null,
            "height": null,
            "min_height": null,
            "padding": null,
            "grid_auto_rows": null,
            "grid_gap": null,
            "max_width": null,
            "order": null,
            "_view_module_version": "1.2.0",
            "grid_template_areas": null,
            "object_position": null,
            "object_fit": null,
            "grid_auto_columns": null,
            "margin": null,
            "display": null,
            "left": null
          }
        }
      }
    }
  },
  "cells": [
    {
      "cell_type": "code",
      "metadata": {
        "id": "Gb6schXnCtvZ",
        "colab_type": "code",
        "colab": {}
      },
      "source": [
        "### pip install pystan\n",
        "### conda install -c conda-forge fbprophet\n",
        "import pandas as pd\n",
        "import fbprophet\n",
        "import matplotlib.pyplot as plt\n",
        "%matplotlib inline"
      ],
      "execution_count": 16,
      "outputs": []
    },
    {
      "cell_type": "code",
      "metadata": {
        "id": "EGF7tEisEQaw",
        "colab_type": "code",
        "colab": {
          "base_uri": "https://localhost:8080/",
          "height": 204
        },
        "outputId": "e02f3086-989d-4070-ec87-d47f5635fb3f"
      },
      "source": [
        "df=pd.read_csv('Monthly_Milk_Production_Pounds.csv')\n",
        "df.head()"
      ],
      "execution_count": 17,
      "outputs": [
        {
          "output_type": "execute_result",
          "data": {
            "text/html": [
              "<div>\n",
              "<style scoped>\n",
              "    .dataframe tbody tr th:only-of-type {\n",
              "        vertical-align: middle;\n",
              "    }\n",
              "\n",
              "    .dataframe tbody tr th {\n",
              "        vertical-align: top;\n",
              "    }\n",
              "\n",
              "    .dataframe thead th {\n",
              "        text-align: right;\n",
              "    }\n",
              "</style>\n",
              "<table border=\"1\" class=\"dataframe\">\n",
              "  <thead>\n",
              "    <tr style=\"text-align: right;\">\n",
              "      <th></th>\n",
              "      <th>Month</th>\n",
              "      <th>Monthly milk production: pounds per cow. Jan 62 ? Dec 75</th>\n",
              "    </tr>\n",
              "  </thead>\n",
              "  <tbody>\n",
              "    <tr>\n",
              "      <th>0</th>\n",
              "      <td>1962-01</td>\n",
              "      <td>589.0</td>\n",
              "    </tr>\n",
              "    <tr>\n",
              "      <th>1</th>\n",
              "      <td>1962-02</td>\n",
              "      <td>561.0</td>\n",
              "    </tr>\n",
              "    <tr>\n",
              "      <th>2</th>\n",
              "      <td>1962-03</td>\n",
              "      <td>640.0</td>\n",
              "    </tr>\n",
              "    <tr>\n",
              "      <th>3</th>\n",
              "      <td>1962-04</td>\n",
              "      <td>656.0</td>\n",
              "    </tr>\n",
              "    <tr>\n",
              "      <th>4</th>\n",
              "      <td>1962-05</td>\n",
              "      <td>727.0</td>\n",
              "    </tr>\n",
              "  </tbody>\n",
              "</table>\n",
              "</div>"
            ],
            "text/plain": [
              "     Month  Monthly milk production: pounds per cow. Jan 62 ? Dec 75\n",
              "0  1962-01                                              589.0       \n",
              "1  1962-02                                              561.0       \n",
              "2  1962-03                                              640.0       \n",
              "3  1962-04                                              656.0       \n",
              "4  1962-05                                              727.0       "
            ]
          },
          "metadata": {
            "tags": []
          },
          "execution_count": 17
        }
      ]
    },
    {
      "cell_type": "code",
      "metadata": {
        "id": "gOppfjevEqve",
        "colab_type": "code",
        "colab": {
          "base_uri": "https://localhost:8080/",
          "height": 204
        },
        "outputId": "2e4a2f6a-4070-4941-b5b0-8355058c3383"
      },
      "source": [
        "df.tail()\n"
      ],
      "execution_count": 18,
      "outputs": [
        {
          "output_type": "execute_result",
          "data": {
            "text/html": [
              "<div>\n",
              "<style scoped>\n",
              "    .dataframe tbody tr th:only-of-type {\n",
              "        vertical-align: middle;\n",
              "    }\n",
              "\n",
              "    .dataframe tbody tr th {\n",
              "        vertical-align: top;\n",
              "    }\n",
              "\n",
              "    .dataframe thead th {\n",
              "        text-align: right;\n",
              "    }\n",
              "</style>\n",
              "<table border=\"1\" class=\"dataframe\">\n",
              "  <thead>\n",
              "    <tr style=\"text-align: right;\">\n",
              "      <th></th>\n",
              "      <th>Month</th>\n",
              "      <th>Monthly milk production: pounds per cow. Jan 62 ? Dec 75</th>\n",
              "    </tr>\n",
              "  </thead>\n",
              "  <tbody>\n",
              "    <tr>\n",
              "      <th>165</th>\n",
              "      <td>1975-10</td>\n",
              "      <td>827.0</td>\n",
              "    </tr>\n",
              "    <tr>\n",
              "      <th>166</th>\n",
              "      <td>1975-11</td>\n",
              "      <td>797.0</td>\n",
              "    </tr>\n",
              "    <tr>\n",
              "      <th>167</th>\n",
              "      <td>1975-12</td>\n",
              "      <td>843.0</td>\n",
              "    </tr>\n",
              "    <tr>\n",
              "      <th>168</th>\n",
              "      <td>NaN</td>\n",
              "      <td>NaN</td>\n",
              "    </tr>\n",
              "    <tr>\n",
              "      <th>169</th>\n",
              "      <td>Monthly milk production: pounds per cow. Jan 6...</td>\n",
              "      <td>NaN</td>\n",
              "    </tr>\n",
              "  </tbody>\n",
              "</table>\n",
              "</div>"
            ],
            "text/plain": [
              "                                                 Month  Monthly milk production: pounds per cow. Jan 62 ? Dec 75\n",
              "165                                            1975-10                                              827.0       \n",
              "166                                            1975-11                                              797.0       \n",
              "167                                            1975-12                                              843.0       \n",
              "168                                                NaN                                                NaN       \n",
              "169  Monthly milk production: pounds per cow. Jan 6...                                                NaN       "
            ]
          },
          "metadata": {
            "tags": []
          },
          "execution_count": 18
        }
      ]
    },
    {
      "cell_type": "code",
      "metadata": {
        "id": "ec1qX_8aExuh",
        "colab_type": "code",
        "colab": {}
      },
      "source": [
        "df.drop(168,axis=0,inplace=True)\n"
      ],
      "execution_count": 19,
      "outputs": []
    },
    {
      "cell_type": "code",
      "metadata": {
        "id": "Ob1ILNFPE3Ge",
        "colab_type": "code",
        "colab": {
          "base_uri": "https://localhost:8080/",
          "height": 204
        },
        "outputId": "9277bd08-e03a-4bee-dcb9-467685efe280"
      },
      "source": [
        "df.tail()\n"
      ],
      "execution_count": 20,
      "outputs": [
        {
          "output_type": "execute_result",
          "data": {
            "text/html": [
              "<div>\n",
              "<style scoped>\n",
              "    .dataframe tbody tr th:only-of-type {\n",
              "        vertical-align: middle;\n",
              "    }\n",
              "\n",
              "    .dataframe tbody tr th {\n",
              "        vertical-align: top;\n",
              "    }\n",
              "\n",
              "    .dataframe thead th {\n",
              "        text-align: right;\n",
              "    }\n",
              "</style>\n",
              "<table border=\"1\" class=\"dataframe\">\n",
              "  <thead>\n",
              "    <tr style=\"text-align: right;\">\n",
              "      <th></th>\n",
              "      <th>Month</th>\n",
              "      <th>Monthly milk production: pounds per cow. Jan 62 ? Dec 75</th>\n",
              "    </tr>\n",
              "  </thead>\n",
              "  <tbody>\n",
              "    <tr>\n",
              "      <th>164</th>\n",
              "      <td>1975-09</td>\n",
              "      <td>817.0</td>\n",
              "    </tr>\n",
              "    <tr>\n",
              "      <th>165</th>\n",
              "      <td>1975-10</td>\n",
              "      <td>827.0</td>\n",
              "    </tr>\n",
              "    <tr>\n",
              "      <th>166</th>\n",
              "      <td>1975-11</td>\n",
              "      <td>797.0</td>\n",
              "    </tr>\n",
              "    <tr>\n",
              "      <th>167</th>\n",
              "      <td>1975-12</td>\n",
              "      <td>843.0</td>\n",
              "    </tr>\n",
              "    <tr>\n",
              "      <th>169</th>\n",
              "      <td>Monthly milk production: pounds per cow. Jan 6...</td>\n",
              "      <td>NaN</td>\n",
              "    </tr>\n",
              "  </tbody>\n",
              "</table>\n",
              "</div>"
            ],
            "text/plain": [
              "                                                 Month  Monthly milk production: pounds per cow. Jan 62 ? Dec 75\n",
              "164                                            1975-09                                              817.0       \n",
              "165                                            1975-10                                              827.0       \n",
              "166                                            1975-11                                              797.0       \n",
              "167                                            1975-12                                              843.0       \n",
              "169  Monthly milk production: pounds per cow. Jan 6...                                                NaN       "
            ]
          },
          "metadata": {
            "tags": []
          },
          "execution_count": 20
        }
      ]
    },
    {
      "cell_type": "code",
      "metadata": {
        "id": "kQrrH414E8sG",
        "colab_type": "code",
        "colab": {
          "base_uri": "https://localhost:8080/",
          "height": 204
        },
        "outputId": "f4d57b1a-2e8b-48cf-bb60-12689e298b51"
      },
      "source": [
        "df.drop(169,axis=0,inplace=True)\n",
        "df.tail()\n"
      ],
      "execution_count": 21,
      "outputs": [
        {
          "output_type": "execute_result",
          "data": {
            "text/html": [
              "<div>\n",
              "<style scoped>\n",
              "    .dataframe tbody tr th:only-of-type {\n",
              "        vertical-align: middle;\n",
              "    }\n",
              "\n",
              "    .dataframe tbody tr th {\n",
              "        vertical-align: top;\n",
              "    }\n",
              "\n",
              "    .dataframe thead th {\n",
              "        text-align: right;\n",
              "    }\n",
              "</style>\n",
              "<table border=\"1\" class=\"dataframe\">\n",
              "  <thead>\n",
              "    <tr style=\"text-align: right;\">\n",
              "      <th></th>\n",
              "      <th>Month</th>\n",
              "      <th>Monthly milk production: pounds per cow. Jan 62 ? Dec 75</th>\n",
              "    </tr>\n",
              "  </thead>\n",
              "  <tbody>\n",
              "    <tr>\n",
              "      <th>163</th>\n",
              "      <td>1975-08</td>\n",
              "      <td>858.0</td>\n",
              "    </tr>\n",
              "    <tr>\n",
              "      <th>164</th>\n",
              "      <td>1975-09</td>\n",
              "      <td>817.0</td>\n",
              "    </tr>\n",
              "    <tr>\n",
              "      <th>165</th>\n",
              "      <td>1975-10</td>\n",
              "      <td>827.0</td>\n",
              "    </tr>\n",
              "    <tr>\n",
              "      <th>166</th>\n",
              "      <td>1975-11</td>\n",
              "      <td>797.0</td>\n",
              "    </tr>\n",
              "    <tr>\n",
              "      <th>167</th>\n",
              "      <td>1975-12</td>\n",
              "      <td>843.0</td>\n",
              "    </tr>\n",
              "  </tbody>\n",
              "</table>\n",
              "</div>"
            ],
            "text/plain": [
              "       Month  Monthly milk production: pounds per cow. Jan 62 ? Dec 75\n",
              "163  1975-08                                              858.0       \n",
              "164  1975-09                                              817.0       \n",
              "165  1975-10                                              827.0       \n",
              "166  1975-11                                              797.0       \n",
              "167  1975-12                                              843.0       "
            ]
          },
          "metadata": {
            "tags": []
          },
          "execution_count": 21
        }
      ]
    },
    {
      "cell_type": "code",
      "metadata": {
        "id": "qDlbnc6ZFBTl",
        "colab_type": "code",
        "colab": {}
      },
      "source": [
        "df.columns=[\"ds\",\"y\"]\n"
      ],
      "execution_count": 22,
      "outputs": []
    },
    {
      "cell_type": "code",
      "metadata": {
        "id": "etsP4u70JHK3",
        "colab_type": "code",
        "colab": {
          "base_uri": "https://localhost:8080/",
          "height": 282
        },
        "outputId": "bedc98a1-8d28-4e88-d1c7-f211103cc695"
      },
      "source": [
        "df.plot()\n"
      ],
      "execution_count": 23,
      "outputs": [
        {
          "output_type": "execute_result",
          "data": {
            "text/plain": [
              "<matplotlib.axes._subplots.AxesSubplot at 0x7f7f28be3e48>"
            ]
          },
          "metadata": {
            "tags": []
          },
          "execution_count": 23
        },
        {
          "output_type": "display_data",
          "data": {
            "image/png": "[encoded data removed]",
            "text/plain": [
              "<Figure size 432x288 with 1 Axes>"
            ]
          },
          "metadata": {
            "tags": [],
            "needs_background": "light"
          }
        }
      ]
    },
    {
      "cell_type": "code",
      "metadata": {
        "id": "mpjwKTJGJfP8",
        "colab_type": "code",
        "colab": {
          "base_uri": "https://localhost:8080/",
          "height": 204
        },
        "outputId": "3db710c5-d8b6-4548-ed10-d767a6ddc2d8"
      },
      "source": [
        "df.head()\n"
      ],
      "execution_count": 24,
      "outputs": [
        {
          "output_type": "execute_result",
          "data": {
            "text/html": [
              "<div>\n",
              "<style scoped>\n",
              "    .dataframe tbody tr th:only-of-type {\n",
              "        vertical-align: middle;\n",
              "    }\n",
              "\n",
              "    .dataframe tbody tr th {\n",
              "        vertical-align: top;\n",
              "    }\n",
              "\n",
              "    .dataframe thead th {\n",
              "        text-align: right;\n",
              "    }\n",
              "</style>\n",
              "<table border=\"1\" class=\"dataframe\">\n",
              "  <thead>\n",
              "    <tr style=\"text-align: right;\">\n",
              "      <th></th>\n",
              "      <th>ds</th>\n",
              "      <th>y</th>\n",
              "    </tr>\n",
              "  </thead>\n",
              "  <tbody>\n",
              "    <tr>\n",
              "      <th>0</th>\n",
              "      <td>1962-01</td>\n",
              "      <td>589.0</td>\n",
              "    </tr>\n",
              "    <tr>\n",
              "      <th>1</th>\n",
              "      <td>1962-02</td>\n",
              "      <td>561.0</td>\n",
              "    </tr>\n",
              "    <tr>\n",
              "      <th>2</th>\n",
              "      <td>1962-03</td>\n",
              "      <td>640.0</td>\n",
              "    </tr>\n",
              "    <tr>\n",
              "      <th>3</th>\n",
              "      <td>1962-04</td>\n",
              "      <td>656.0</td>\n",
              "    </tr>\n",
              "    <tr>\n",
              "      <th>4</th>\n",
              "      <td>1962-05</td>\n",
              "      <td>727.0</td>\n",
              "    </tr>\n",
              "  </tbody>\n",
              "</table>\n",
              "</div>"
            ],
            "text/plain": [
              "        ds      y\n",
              "0  1962-01  589.0\n",
              "1  1962-02  561.0\n",
              "2  1962-03  640.0\n",
              "3  1962-04  656.0\n",
              "4  1962-05  727.0"
            ]
          },
          "metadata": {
            "tags": []
          },
          "execution_count": 24
        }
      ]
    },
    {
      "cell_type": "code",
      "metadata": {
        "id": "O-YPI2w3JiA8",
        "colab_type": "code",
        "colab": {
          "base_uri": "https://localhost:8080/",
          "height": 282
        },
        "outputId": "d6157bfa-55ca-41d9-cf73-4f199f22713c"
      },
      "source": [
        "df['y'].plot()\n"
      ],
      "execution_count": 25,
      "outputs": [
        {
          "output_type": "execute_result",
          "data": {
            "text/plain": [
              "<matplotlib.axes._subplots.AxesSubplot at 0x7f7f28ac98d0>"
            ]
          },
          "metadata": {
            "tags": []
          },
          "execution_count": 25
        },
        {
          "output_type": "display_data",
          "data": {
            "image/png": "[encoded data removed]",
            "text/plain": [
              "<Figure size 432x288 with 1 Axes>"
            ]
          },
          "metadata": {
            "tags": [],
            "needs_background": "light"
          }
        }
      ]
    },
    {
      "cell_type": "code",
      "metadata": {
        "id": "A1JxbjNDJlxc",
        "colab_type": "code",
        "colab": {
          "base_uri": "https://localhost:8080/",
          "height": 204
        },
        "outputId": "e517ad76-a969-4f94-95d5-c792fbb47045"
      },
      "source": [
        "df.head()\n"
      ],
      "execution_count": 26,
      "outputs": [
        {
          "output_type": "execute_result",
          "data": {
            "text/html": [
              "<div>\n",
              "<style scoped>\n",
              "    .dataframe tbody tr th:only-of-type {\n",
              "        vertical-align: middle;\n",
              "    }\n",
              "\n",
              "    .dataframe tbody tr th {\n",
              "        vertical-align: top;\n",
              "    }\n",
              "\n",
              "    .dataframe thead th {\n",
              "        text-align: right;\n",
              "    }\n",
              "</style>\n",
              "<table border=\"1\" class=\"dataframe\">\n",
              "  <thead>\n",
              "    <tr style=\"text-align: right;\">\n",
              "      <th></th>\n",
              "      <th>ds</th>\n",
              "      <th>y</th>\n",
              "    </tr>\n",
              "  </thead>\n",
              "  <tbody>\n",
              "    <tr>\n",
              "      <th>0</th>\n",
              "      <td>1962-01</td>\n",
              "      <td>589.0</td>\n",
              "    </tr>\n",
              "    <tr>\n",
              "      <th>1</th>\n",
              "      <td>1962-02</td>\n",
              "      <td>561.0</td>\n",
              "    </tr>\n",
              "    <tr>\n",
              "      <th>2</th>\n",
              "      <td>1962-03</td>\n",
              "      <td>640.0</td>\n",
              "    </tr>\n",
              "    <tr>\n",
              "      <th>3</th>\n",
              "      <td>1962-04</td>\n",
              "      <td>656.0</td>\n",
              "    </tr>\n",
              "    <tr>\n",
              "      <th>4</th>\n",
              "      <td>1962-05</td>\n",
              "      <td>727.0</td>\n",
              "    </tr>\n",
              "  </tbody>\n",
              "</table>\n",
              "</div>"
            ],
            "text/plain": [
              "        ds      y\n",
              "0  1962-01  589.0\n",
              "1  1962-02  561.0\n",
              "2  1962-03  640.0\n",
              "3  1962-04  656.0\n",
              "4  1962-05  727.0"
            ]
          },
          "metadata": {
            "tags": []
          },
          "execution_count": 26
        }
      ]
    },
    {
      "cell_type": "code",
      "metadata": {
        "id": "d04g1c61JoT0",
        "colab_type": "code",
        "colab": {
          "base_uri": "https://localhost:8080/",
          "height": 282
        },
        "outputId": "58c85018-09c6-43db-8060-9c9120b0af97"
      },
      "source": [
        "df['y'].plot()\n"
      ],
      "execution_count": 27,
      "outputs": [
        {
          "output_type": "execute_result",
          "data": {
            "text/plain": [
              "<matplotlib.axes._subplots.AxesSubplot at 0x7f7f285e49e8>"
            ]
          },
          "metadata": {
            "tags": []
          },
          "execution_count": 27
        },
        {
          "output_type": "display_data",
          "data": {
            "image/png": "[encoded data removed]",
            "text/plain": [
              "<Figure size 432x288 with 1 Axes>"
            ]
          },
          "metadata": {
            "tags": [],
            "needs_background": "light"
          }
        }
      ]
    },
    {
      "cell_type": "code",
      "metadata": {
        "id": "B3G_-IeaJreE",
        "colab_type": "code",
        "colab": {}
      },
      "source": [
        "from fbprophet import Prophet\n"
      ],
      "execution_count": 28,
      "outputs": []
    },
    {
      "cell_type": "code",
      "metadata": {
        "id": "JXXbf68gJyYd",
        "colab_type": "code",
        "colab": {
          "base_uri": "https://localhost:8080/",
          "height": 1000
        },
        "outputId": "d53972e4-cbca-4bd5-8ec0-4c3274bce1f0"
      },
      "source": [
        "dir(Prophet)\n"
      ],
      "execution_count": 29,
      "outputs": [
        {
          "output_type": "execute_result",
          "data": {
            "text/plain": [
              "['__class__',\n",
              " '__delattr__',\n",
              " '__dict__',\n",
              " '__dir__',\n",
              " '__doc__',\n",
              " '__eq__',\n",
              " '__format__',\n",
              " '__ge__',\n",
              " '__getattribute__',\n",
              " '__gt__',\n",
              " '__hash__',\n",
              " '__init__',\n",
              " '__init_subclass__',\n",
              " '__le__',\n",
              " '__lt__',\n",
              " '__module__',\n",
              " '__ne__',\n",
              " '__new__',\n",
              " '__reduce__',\n",
              " '__reduce_ex__',\n",
              " '__repr__',\n",
              " '__setattr__',\n",
              " '__sizeof__',\n",
              " '__str__',\n",
              " '__subclasshook__',\n",
              " '__weakref__',\n",
              " '_load_stan_backend',\n",
              " 'add_country_holidays',\n",
              " 'add_group_component',\n",
              " 'add_regressor',\n",
              " 'add_seasonality',\n",
              " 'construct_holiday_dataframe',\n",
              " 'fit',\n",
              " 'flat_growth_init',\n",
              " 'flat_trend',\n",
              " 'fourier_series',\n",
              " 'initialize_scales',\n",
              " 'linear_growth_init',\n",
              " 'logistic_growth_init',\n",
              " 'make_all_seasonality_features',\n",
              " 'make_future_dataframe',\n",
              " 'make_holiday_features',\n",
              " 'make_seasonality_features',\n",
              " 'parse_seasonality_args',\n",
              " 'percentile',\n",
              " 'piecewise_linear',\n",
              " 'piecewise_logistic',\n",
              " 'plot',\n",
              " 'plot_components',\n",
              " 'predict',\n",
              " 'predict_seasonal_components',\n",
              " 'predict_trend',\n",
              " 'predict_uncertainty',\n",
              " 'predictive_samples',\n",
              " 'regressor_column_matrix',\n",
              " 'sample_model',\n",
              " 'sample_posterior_predictive',\n",
              " 'sample_predictive_trend',\n",
              " 'set_auto_seasonalities',\n",
              " 'set_changepoints',\n",
              " 'setup_dataframe',\n",
              " 'validate_column_name',\n",
              " 'validate_inputs']"
            ]
          },
          "metadata": {
            "tags": []
          },
          "execution_count": 29
        }
      ]
    },
    {
      "cell_type": "code",
      "metadata": {
        "id": "QzeaqNTIJ1UN",
        "colab_type": "code",
        "colab": {
          "base_uri": "https://localhost:8080/",
          "height": 204
        },
        "outputId": "da61a587-ac14-4eee-caee-ec7cbdbc7c4a"
      },
      "source": [
        "df.head()\n"
      ],
      "execution_count": 30,
      "outputs": [
        {
          "output_type": "execute_result",
          "data": {
            "text/html": [
              "<div>\n",
              "<style scoped>\n",
              "    .dataframe tbody tr th:only-of-type {\n",
              "        vertical-align: middle;\n",
              "    }\n",
              "\n",
              "    .dataframe tbody tr th {\n",
              "        vertical-align: top;\n",
              "    }\n",
              "\n",
              "    .dataframe thead th {\n",
              "        text-align: right;\n",
              "    }\n",
              "</style>\n",
              "<table border=\"1\" class=\"dataframe\">\n",
              "  <thead>\n",
              "    <tr style=\"text-align: right;\">\n",
              "      <th></th>\n",
              "      <th>ds</th>\n",
              "      <th>y</th>\n",
              "    </tr>\n",
              "  </thead>\n",
              "  <tbody>\n",
              "    <tr>\n",
              "      <th>0</th>\n",
              "      <td>1962-01</td>\n",
              "      <td>589.0</td>\n",
              "    </tr>\n",
              "    <tr>\n",
              "      <th>1</th>\n",
              "      <td>1962-02</td>\n",
              "      <td>561.0</td>\n",
              "    </tr>\n",
              "    <tr>\n",
              "      <th>2</th>\n",
              "      <td>1962-03</td>\n",
              "      <td>640.0</td>\n",
              "    </tr>\n",
              "    <tr>\n",
              "      <th>3</th>\n",
              "      <td>1962-04</td>\n",
              "      <td>656.0</td>\n",
              "    </tr>\n",
              "    <tr>\n",
              "      <th>4</th>\n",
              "      <td>1962-05</td>\n",
              "      <td>727.0</td>\n",
              "    </tr>\n",
              "  </tbody>\n",
              "</table>\n",
              "</div>"
            ],
            "text/plain": [
              "        ds      y\n",
              "0  1962-01  589.0\n",
              "1  1962-02  561.0\n",
              "2  1962-03  640.0\n",
              "3  1962-04  656.0\n",
              "4  1962-05  727.0"
            ]
          },
          "metadata": {
            "tags": []
          },
          "execution_count": 30
        }
      ]
    },
    {
      "cell_type": "code",
      "metadata": {
        "id": "8L7FZXZRJ7et",
        "colab_type": "code",
        "colab": {
          "base_uri": "https://localhost:8080/",
          "height": 85
        },
        "outputId": "69c7d376-d53e-46fe-b04c-cdafcc280e70"
      },
      "source": [
        "### intiialize the Model\n",
        "model=Prophet()\n",
        "model.fit(df)"
      ],
      "execution_count": 31,
      "outputs": [
        {
          "output_type": "stream",
          "text": [
            "INFO:numexpr.utils:NumExpr defaulting to 2 threads.\n",
            "INFO:fbprophet:Disabling weekly seasonality. Run prophet with weekly_seasonality=True to override this.\n",
            "INFO:fbprophet:Disabling daily seasonality. Run prophet with daily_seasonality=True to override this.\n"
          ],
          "name": "stderr"
        },
        {
          "output_type": "execute_result",
          "data": {
            "text/plain": [
              "<fbprophet.forecaster.Prophet at 0x7f7f285e4ba8>"
            ]
          },
          "metadata": {
            "tags": []
          },
          "execution_count": 31
        }
      ]
    },
    {
      "cell_type": "code",
      "metadata": {
        "id": "q4Q4cLWRJ-dt",
        "colab_type": "code",
        "colab": {
          "base_uri": "https://localhost:8080/",
          "height": 34
        },
        "outputId": "09b07d2b-e749-431a-f99c-7acd19fb380b"
      },
      "source": [
        "model"
      ],
      "execution_count": 32,
      "outputs": [
        {
          "output_type": "execute_result",
          "data": {
            "text/plain": [
              "<fbprophet.forecaster.Prophet at 0x7f7f285e4ba8>"
            ]
          },
          "metadata": {
            "tags": []
          },
          "execution_count": 32
        }
      ]
    },
    {
      "cell_type": "code",
      "metadata": {
        "id": "kIrHNsv9KBYr",
        "colab_type": "code",
        "colab": {
          "base_uri": "https://localhost:8080/",
          "height": 119
        },
        "outputId": "2a7bf02d-afb7-421e-fa6c-2e5283cb9d64"
      },
      "source": [
        "model.seasonalities\n"
      ],
      "execution_count": 33,
      "outputs": [
        {
          "output_type": "execute_result",
          "data": {
            "text/plain": [
              "OrderedDict([('yearly',\n",
              "              {'condition_name': None,\n",
              "               'fourier_order': 10,\n",
              "               'mode': 'additive',\n",
              "               'period': 365.25,\n",
              "               'prior_scale': 10.0})])"
            ]
          },
          "metadata": {
            "tags": []
          },
          "execution_count": 33
        }
      ]
    },
    {
      "cell_type": "code",
      "metadata": {
        "id": "vg412hrAKDTq",
        "colab_type": "code",
        "colab": {
          "base_uri": "https://localhost:8080/",
          "height": 102
        },
        "outputId": "6264e755-ffa3-4ea1-d13b-45b2a6c6ef58"
      },
      "source": [
        "model.component_modes\n"
      ],
      "execution_count": 34,
      "outputs": [
        {
          "output_type": "execute_result",
          "data": {
            "text/plain": [
              "{'additive': ['yearly',\n",
              "  'additive_terms',\n",
              "  'extra_regressors_additive',\n",
              "  'holidays'],\n",
              " 'multiplicative': ['multiplicative_terms', 'extra_regressors_multiplicative']}"
            ]
          },
          "metadata": {
            "tags": []
          },
          "execution_count": 34
        }
      ]
    },
    {
      "cell_type": "code",
      "metadata": {
        "id": "nqYcAIEhKGHr",
        "colab_type": "code",
        "colab": {}
      },
      "source": [
        "#### Create future dates of 365 days\n",
        "future_dates=model.make_future_dataframe(periods=365)"
      ],
      "execution_count": 35,
      "outputs": []
    },
    {
      "cell_type": "code",
      "metadata": {
        "id": "h3kZM0R-KJ4K",
        "colab_type": "code",
        "colab": {
          "base_uri": "https://localhost:8080/",
          "height": 204
        },
        "outputId": "261809f0-148a-4e3b-efb1-e3f6c9d5111d"
      },
      "source": [
        "df.tail()\n"
      ],
      "execution_count": 36,
      "outputs": [
        {
          "output_type": "execute_result",
          "data": {
            "text/html": [
              "<div>\n",
              "<style scoped>\n",
              "    .dataframe tbody tr th:only-of-type {\n",
              "        vertical-align: middle;\n",
              "    }\n",
              "\n",
              "    .dataframe tbody tr th {\n",
              "        vertical-align: top;\n",
              "    }\n",
              "\n",
              "    .dataframe thead th {\n",
              "        text-align: right;\n",
              "    }\n",
              "</style>\n",
              "<table border=\"1\" class=\"dataframe\">\n",
              "  <thead>\n",
              "    <tr style=\"text-align: right;\">\n",
              "      <th></th>\n",
              "      <th>ds</th>\n",
              "      <th>y</th>\n",
              "    </tr>\n",
              "  </thead>\n",
              "  <tbody>\n",
              "    <tr>\n",
              "      <th>163</th>\n",
              "      <td>1975-08</td>\n",
              "      <td>858.0</td>\n",
              "    </tr>\n",
              "    <tr>\n",
              "      <th>164</th>\n",
              "      <td>1975-09</td>\n",
              "      <td>817.0</td>\n",
              "    </tr>\n",
              "    <tr>\n",
              "      <th>165</th>\n",
              "      <td>1975-10</td>\n",
              "      <td>827.0</td>\n",
              "    </tr>\n",
              "    <tr>\n",
              "      <th>166</th>\n",
              "      <td>1975-11</td>\n",
              "      <td>797.0</td>\n",
              "    </tr>\n",
              "    <tr>\n",
              "      <th>167</th>\n",
              "      <td>1975-12</td>\n",
              "      <td>843.0</td>\n",
              "    </tr>\n",
              "  </tbody>\n",
              "</table>\n",
              "</div>"
            ],
            "text/plain": [
              "          ds      y\n",
              "163  1975-08  858.0\n",
              "164  1975-09  817.0\n",
              "165  1975-10  827.0\n",
              "166  1975-11  797.0\n",
              "167  1975-12  843.0"
            ]
          },
          "metadata": {
            "tags": []
          },
          "execution_count": 36
        }
      ]
    },
    {
      "cell_type": "code",
      "metadata": {
        "id": "5_KI8ULWKLps",
        "colab_type": "code",
        "colab": {
          "base_uri": "https://localhost:8080/",
          "height": 419
        },
        "outputId": "777821ed-828c-4088-c087-723a44960161"
      },
      "source": [
        "future_dates\n"
      ],
      "execution_count": 37,
      "outputs": [
        {
          "output_type": "execute_result",
          "data": {
            "text/html": [
              "<div>\n",
              "<style scoped>\n",
              "    .dataframe tbody tr th:only-of-type {\n",
              "        vertical-align: middle;\n",
              "    }\n",
              "\n",
              "    .dataframe tbody tr th {\n",
              "        vertical-align: top;\n",
              "    }\n",
              "\n",
              "    .dataframe thead th {\n",
              "        text-align: right;\n",
              "    }\n",
              "</style>\n",
              "<table border=\"1\" class=\"dataframe\">\n",
              "  <thead>\n",
              "    <tr style=\"text-align: right;\">\n",
              "      <th></th>\n",
              "      <th>ds</th>\n",
              "    </tr>\n",
              "  </thead>\n",
              "  <tbody>\n",
              "    <tr>\n",
              "      <th>0</th>\n",
              "      <td>1962-01-01</td>\n",
              "    </tr>\n",
              "    <tr>\n",
              "      <th>1</th>\n",
              "      <td>1962-02-01</td>\n",
              "    </tr>\n",
              "    <tr>\n",
              "      <th>2</th>\n",
              "      <td>1962-03-01</td>\n",
              "    </tr>\n",
              "    <tr>\n",
              "      <th>3</th>\n",
              "      <td>1962-04-01</td>\n",
              "    </tr>\n",
              "    <tr>\n",
              "      <th>4</th>\n",
              "      <td>1962-05-01</td>\n",
              "    </tr>\n",
              "    <tr>\n",
              "      <th>...</th>\n",
              "      <td>...</td>\n",
              "    </tr>\n",
              "    <tr>\n",
              "      <th>528</th>\n",
              "      <td>1976-11-26</td>\n",
              "    </tr>\n",
              "    <tr>\n",
              "      <th>529</th>\n",
              "      <td>1976-11-27</td>\n",
              "    </tr>\n",
              "    <tr>\n",
              "      <th>530</th>\n",
              "      <td>1976-11-28</td>\n",
              "    </tr>\n",
              "    <tr>\n",
              "      <th>531</th>\n",
              "      <td>1976-11-29</td>\n",
              "    </tr>\n",
              "    <tr>\n",
              "      <th>532</th>\n",
              "      <td>1976-11-30</td>\n",
              "    </tr>\n",
              "  </tbody>\n",
              "</table>\n",
              "<p>533 rows × 1 columns</p>\n",
              "</div>"
            ],
            "text/plain": [
              "            ds\n",
              "0   1962-01-01\n",
              "1   1962-02-01\n",
              "2   1962-03-01\n",
              "3   1962-04-01\n",
              "4   1962-05-01\n",
              "..         ...\n",
              "528 1976-11-26\n",
              "529 1976-11-27\n",
              "530 1976-11-28\n",
              "531 1976-11-29\n",
              "532 1976-11-30\n",
              "\n",
              "[533 rows x 1 columns]"
            ]
          },
          "metadata": {
            "tags": []
          },
          "execution_count": 37
        }
      ]
    },
    {
      "cell_type": "code",
      "metadata": {
        "id": "k5V6O55kKNxc",
        "colab_type": "code",
        "colab": {}
      },
      "source": [
        "### Prediction\n",
        "prediction=model.predict(future_dates)"
      ],
      "execution_count": 38,
      "outputs": []
    },
    {
      "cell_type": "code",
      "metadata": {
        "id": "ha6Qoe0DKS4N",
        "colab_type": "code",
        "colab": {
          "base_uri": "https://localhost:8080/",
          "height": 309
        },
        "outputId": "91445d04-7311-4fd9-c4d8-2a2f26be2d56"
      },
      "source": [
        "prediction.head()\n"
      ],
      "execution_count": 39,
      "outputs": [
        {
          "output_type": "execute_result",
          "data": {
            "text/html": [
              "<div>\n",
              "<style scoped>\n",
              "    .dataframe tbody tr th:only-of-type {\n",
              "        vertical-align: middle;\n",
              "    }\n",
              "\n",
              "    .dataframe tbody tr th {\n",
              "        vertical-align: top;\n",
              "    }\n",
              "\n",
              "    .dataframe thead th {\n",
              "        text-align: right;\n",
              "    }\n",
              "</style>\n",
              "<table border=\"1\" class=\"dataframe\">\n",
              "  <thead>\n",
              "    <tr style=\"text-align: right;\">\n",
              "      <th></th>\n",
              "      <th>ds</th>\n",
              "      <th>trend</th>\n",
              "      <th>yhat_lower</th>\n",
              "      <th>yhat_upper</th>\n",
              "      <th>trend_lower</th>\n",
              "      <th>trend_upper</th>\n",
              "      <th>additive_terms</th>\n",
              "      <th>additive_terms_lower</th>\n",
              "      <th>additive_terms_upper</th>\n",
              "      <th>yearly</th>\n",
              "      <th>yearly_lower</th>\n",
              "      <th>yearly_upper</th>\n",
              "      <th>multiplicative_terms</th>\n",
              "      <th>multiplicative_terms_lower</th>\n",
              "      <th>multiplicative_terms_upper</th>\n",
              "      <th>yhat</th>\n",
              "    </tr>\n",
              "  </thead>\n",
              "  <tbody>\n",
              "    <tr>\n",
              "      <th>0</th>\n",
              "      <td>1962-01-01</td>\n",
              "      <td>606.941323</td>\n",
              "      <td>577.516146</td>\n",
              "      <td>596.788050</td>\n",
              "      <td>606.941323</td>\n",
              "      <td>606.941323</td>\n",
              "      <td>-20.151798</td>\n",
              "      <td>-20.151798</td>\n",
              "      <td>-20.151798</td>\n",
              "      <td>-20.151798</td>\n",
              "      <td>-20.151798</td>\n",
              "      <td>-20.151798</td>\n",
              "      <td>0.0</td>\n",
              "      <td>0.0</td>\n",
              "      <td>0.0</td>\n",
              "      <td>586.789525</td>\n",
              "    </tr>\n",
              "    <tr>\n",
              "      <th>1</th>\n",
              "      <td>1962-02-01</td>\n",
              "      <td>608.656256</td>\n",
              "      <td>536.170469</td>\n",
              "      <td>555.838320</td>\n",
              "      <td>608.656256</td>\n",
              "      <td>608.656256</td>\n",
              "      <td>-62.588619</td>\n",
              "      <td>-62.588619</td>\n",
              "      <td>-62.588619</td>\n",
              "      <td>-62.588619</td>\n",
              "      <td>-62.588619</td>\n",
              "      <td>-62.588619</td>\n",
              "      <td>0.0</td>\n",
              "      <td>0.0</td>\n",
              "      <td>0.0</td>\n",
              "      <td>546.067637</td>\n",
              "    </tr>\n",
              "    <tr>\n",
              "      <th>2</th>\n",
              "      <td>1962-03-01</td>\n",
              "      <td>610.205228</td>\n",
              "      <td>631.735292</td>\n",
              "      <td>651.831289</td>\n",
              "      <td>610.205228</td>\n",
              "      <td>610.205228</td>\n",
              "      <td>31.365739</td>\n",
              "      <td>31.365739</td>\n",
              "      <td>31.365739</td>\n",
              "      <td>31.365739</td>\n",
              "      <td>31.365739</td>\n",
              "      <td>31.365739</td>\n",
              "      <td>0.0</td>\n",
              "      <td>0.0</td>\n",
              "      <td>0.0</td>\n",
              "      <td>641.570967</td>\n",
              "    </tr>\n",
              "    <tr>\n",
              "      <th>3</th>\n",
              "      <td>1962-04-01</td>\n",
              "      <td>611.920161</td>\n",
              "      <td>648.167083</td>\n",
              "      <td>668.464917</td>\n",
              "      <td>611.920161</td>\n",
              "      <td>611.920161</td>\n",
              "      <td>46.703773</td>\n",
              "      <td>46.703773</td>\n",
              "      <td>46.703773</td>\n",
              "      <td>46.703773</td>\n",
              "      <td>46.703773</td>\n",
              "      <td>46.703773</td>\n",
              "      <td>0.0</td>\n",
              "      <td>0.0</td>\n",
              "      <td>0.0</td>\n",
              "      <td>658.623935</td>\n",
              "    </tr>\n",
              "    <tr>\n",
              "      <th>4</th>\n",
              "      <td>1962-05-01</td>\n",
              "      <td>613.579774</td>\n",
              "      <td>710.998099</td>\n",
              "      <td>731.326039</td>\n",
              "      <td>613.579774</td>\n",
              "      <td>613.579774</td>\n",
              "      <td>108.040207</td>\n",
              "      <td>108.040207</td>\n",
              "      <td>108.040207</td>\n",
              "      <td>108.040207</td>\n",
              "      <td>108.040207</td>\n",
              "      <td>108.040207</td>\n",
              "      <td>0.0</td>\n",
              "      <td>0.0</td>\n",
              "      <td>0.0</td>\n",
              "      <td>721.619981</td>\n",
              "    </tr>\n",
              "  </tbody>\n",
              "</table>\n",
              "</div>"
            ],
            "text/plain": [
              "          ds       trend  ...  multiplicative_terms_upper        yhat\n",
              "0 1962-01-01  606.941323  ...                         0.0  586.789525\n",
              "1 1962-02-01  608.656256  ...                         0.0  546.067637\n",
              "2 1962-03-01  610.205228  ...                         0.0  641.570967\n",
              "3 1962-04-01  611.920161  ...                         0.0  658.623935\n",
              "4 1962-05-01  613.579774  ...                         0.0  721.619981\n",
              "\n",
              "[5 rows x 16 columns]"
            ]
          },
          "metadata": {
            "tags": []
          },
          "execution_count": 39
        }
      ]
    },
    {
      "cell_type": "code",
      "metadata": {
        "id": "-GUck0y7KWRC",
        "colab_type": "code",
        "colab": {
          "base_uri": "https://localhost:8080/",
          "height": 34
        },
        "outputId": "aaa4bcfc-c987-4b69-ef51-23bec53e0629"
      },
      "source": [
        "(8.974783+27.786856)/2\n"
      ],
      "execution_count": 40,
      "outputs": [
        {
          "output_type": "execute_result",
          "data": {
            "text/plain": [
              "18.3808195"
            ]
          },
          "metadata": {
            "tags": []
          },
          "execution_count": 40
        }
      ]
    },
    {
      "cell_type": "code",
      "metadata": {
        "id": "qdEtSM5-KdXd",
        "colab_type": "code",
        "colab": {
          "base_uri": "https://localhost:8080/",
          "height": 204
        },
        "outputId": "915f6fc7-b826-4508-971d-604801a4c5b2"
      },
      "source": [
        "prediction[['ds','yhat','yhat_lower','yhat_upper']].tail()\n"
      ],
      "execution_count": 41,
      "outputs": [
        {
          "output_type": "execute_result",
          "data": {
            "text/html": [
              "<div>\n",
              "<style scoped>\n",
              "    .dataframe tbody tr th:only-of-type {\n",
              "        vertical-align: middle;\n",
              "    }\n",
              "\n",
              "    .dataframe tbody tr th {\n",
              "        vertical-align: top;\n",
              "    }\n",
              "\n",
              "    .dataframe thead th {\n",
              "        text-align: right;\n",
              "    }\n",
              "</style>\n",
              "<table border=\"1\" class=\"dataframe\">\n",
              "  <thead>\n",
              "    <tr style=\"text-align: right;\">\n",
              "      <th></th>\n",
              "      <th>ds</th>\n",
              "      <th>yhat</th>\n",
              "      <th>yhat_lower</th>\n",
              "      <th>yhat_upper</th>\n",
              "    </tr>\n",
              "  </thead>\n",
              "  <tbody>\n",
              "    <tr>\n",
              "      <th>528</th>\n",
              "      <td>1976-11-26</td>\n",
              "      <td>815.347638</td>\n",
              "      <td>805.183659</td>\n",
              "      <td>826.720714</td>\n",
              "    </tr>\n",
              "    <tr>\n",
              "      <th>529</th>\n",
              "      <td>1976-11-27</td>\n",
              "      <td>818.479106</td>\n",
              "      <td>807.526444</td>\n",
              "      <td>830.127393</td>\n",
              "    </tr>\n",
              "    <tr>\n",
              "      <th>530</th>\n",
              "      <td>1976-11-28</td>\n",
              "      <td>821.790064</td>\n",
              "      <td>809.998077</td>\n",
              "      <td>832.948475</td>\n",
              "    </tr>\n",
              "    <tr>\n",
              "      <th>531</th>\n",
              "      <td>1976-11-29</td>\n",
              "      <td>825.219679</td>\n",
              "      <td>814.363859</td>\n",
              "      <td>836.154255</td>\n",
              "    </tr>\n",
              "    <tr>\n",
              "      <th>532</th>\n",
              "      <td>1976-11-30</td>\n",
              "      <td>828.699914</td>\n",
              "      <td>816.880866</td>\n",
              "      <td>839.713799</td>\n",
              "    </tr>\n",
              "  </tbody>\n",
              "</table>\n",
              "</div>"
            ],
            "text/plain": [
              "            ds        yhat  yhat_lower  yhat_upper\n",
              "528 1976-11-26  815.347638  805.183659  826.720714\n",
              "529 1976-11-27  818.479106  807.526444  830.127393\n",
              "530 1976-11-28  821.790064  809.998077  832.948475\n",
              "531 1976-11-29  825.219679  814.363859  836.154255\n",
              "532 1976-11-30  828.699914  816.880866  839.713799"
            ]
          },
          "metadata": {
            "tags": []
          },
          "execution_count": 41
        }
      ]
    },
    {
      "cell_type": "code",
      "metadata": {
        "id": "1v7thqV-KfDT",
        "colab_type": "code",
        "colab": {
          "base_uri": "https://localhost:8080/",
          "height": 204
        },
        "outputId": "09838f16-302e-4dd6-ca6e-162569f075c5"
      },
      "source": [
        "prediction[['ds','yhat','yhat_lower','yhat_upper']].head()\n"
      ],
      "execution_count": 42,
      "outputs": [
        {
          "output_type": "execute_result",
          "data": {
            "text/html": [
              "<div>\n",
              "<style scoped>\n",
              "    .dataframe tbody tr th:only-of-type {\n",
              "        vertical-align: middle;\n",
              "    }\n",
              "\n",
              "    .dataframe tbody tr th {\n",
              "        vertical-align: top;\n",
              "    }\n",
              "\n",
              "    .dataframe thead th {\n",
              "        text-align: right;\n",
              "    }\n",
              "</style>\n",
              "<table border=\"1\" class=\"dataframe\">\n",
              "  <thead>\n",
              "    <tr style=\"text-align: right;\">\n",
              "      <th></th>\n",
              "      <th>ds</th>\n",
              "      <th>yhat</th>\n",
              "      <th>yhat_lower</th>\n",
              "      <th>yhat_upper</th>\n",
              "    </tr>\n",
              "  </thead>\n",
              "  <tbody>\n",
              "    <tr>\n",
              "      <th>0</th>\n",
              "      <td>1962-01-01</td>\n",
              "      <td>586.789525</td>\n",
              "      <td>577.516146</td>\n",
              "      <td>596.788050</td>\n",
              "    </tr>\n",
              "    <tr>\n",
              "      <th>1</th>\n",
              "      <td>1962-02-01</td>\n",
              "      <td>546.067637</td>\n",
              "      <td>536.170469</td>\n",
              "      <td>555.838320</td>\n",
              "    </tr>\n",
              "    <tr>\n",
              "      <th>2</th>\n",
              "      <td>1962-03-01</td>\n",
              "      <td>641.570967</td>\n",
              "      <td>631.735292</td>\n",
              "      <td>651.831289</td>\n",
              "    </tr>\n",
              "    <tr>\n",
              "      <th>3</th>\n",
              "      <td>1962-04-01</td>\n",
              "      <td>658.623935</td>\n",
              "      <td>648.167083</td>\n",
              "      <td>668.464917</td>\n",
              "    </tr>\n",
              "    <tr>\n",
              "      <th>4</th>\n",
              "      <td>1962-05-01</td>\n",
              "      <td>721.619981</td>\n",
              "      <td>710.998099</td>\n",
              "      <td>731.326039</td>\n",
              "    </tr>\n",
              "  </tbody>\n",
              "</table>\n",
              "</div>"
            ],
            "text/plain": [
              "          ds        yhat  yhat_lower  yhat_upper\n",
              "0 1962-01-01  586.789525  577.516146  596.788050\n",
              "1 1962-02-01  546.067637  536.170469  555.838320\n",
              "2 1962-03-01  641.570967  631.735292  651.831289\n",
              "3 1962-04-01  658.623935  648.167083  668.464917\n",
              "4 1962-05-01  721.619981  710.998099  731.326039"
            ]
          },
          "metadata": {
            "tags": []
          },
          "execution_count": 42
        }
      ]
    },
    {
      "cell_type": "markdown",
      "metadata": {
        "id": "QeuoCIUMKoNM",
        "colab_type": "text"
      },
      "source": [
        "####Plotting the Forecasts\n",
        "Prophet has an inbuilt feature that enables us to plot the forecasts we just generated. This is achieved using model.plot() and passing in our forecasts as the argument. The blue line in the graph represents the predicted values while the black dots represents the data in our dataset."
      ]
    },
    {
      "cell_type": "code",
      "metadata": {
        "id": "yGVKxoqJKxW_",
        "colab_type": "code",
        "colab": {
          "base_uri": "https://localhost:8080/",
          "height": 865
        },
        "outputId": "eab01e48-c398-446b-f084-047e29348c20"
      },
      "source": [
        "#### plot the predicted projection\n",
        "model.plot(prediction)"
      ],
      "execution_count": 43,
      "outputs": [
        {
          "output_type": "execute_result",
          "data": {
            "image/png": "[encoded data removed]",
            "text/plain": [
              "<Figure size 720x432 with 1 Axes>"
            ]
          },
          "metadata": {
            "tags": []
          },
          "execution_count": 43
        },
        {
          "output_type": "display_data",
          "data": {
            "image/png": "[encoded data removed]",
            "text/plain": [
              "<Figure size 720x432 with 1 Axes>"
            ]
          },
          "metadata": {
            "tags": []
          }
        }
      ]
    },
    {
      "cell_type": "code",
      "metadata": {
        "id": "2L-kmgmIK0zB",
        "colab_type": "code",
        "colab": {
          "base_uri": "https://localhost:8080/",
          "height": 865
        },
        "outputId": "89d0ebae-e1e5-43e0-8c1d-c9a7b100f4d3"
      },
      "source": [
        "##### Visualize Each Components[Trends,Weekly]\n",
        "model.plot_components(prediction)"
      ],
      "execution_count": 44,
      "outputs": [
        {
          "output_type": "execute_result",
          "data": {
            "image/png": "[encoded data removed]",
            "text/plain": [
              "<Figure size 648x432 with 2 Axes>"
            ]
          },
          "metadata": {
            "tags": []
          },
          "execution_count": 44
        },
        {
          "output_type": "display_data",
          "data": {
            "image/png": "[encoded data removed]",
            "text/plain": [
              "<Figure size 648x432 with 2 Axes>"
            ]
          },
          "metadata": {
            "tags": []
          }
        }
      ]
    },
    {
      "cell_type": "markdown",
      "metadata": {
        "id": "hx2SI8jvLNYA",
        "colab_type": "text"
      },
      "source": [
        "####Cross Validation\n",
        "Next let’s measure the forecast error using the historical data. We’ll do this by comparing the predicted values with the actual values. In order to perform this operation we select cut of points in the history of the data and fit the model with data upto that cut off point. Afterwards we compare the actual values to the predicted values. The cross_validation method allows us to do this in Prophet. This method take the following parameters as explained below:\n",
        "\n",
        "\n",
        "* horizon the forecast horizon\n",
        "\n",
        "* initial the size of the initial training period\n",
        "\n",
        "* period the spacing between cutoff dates\n",
        "\n",
        "\n"
      ]
    },
    {
      "cell_type": "code",
      "metadata": {
        "id": "rf7r_XZCK7Wr",
        "colab_type": "code",
        "colab": {
          "base_uri": "https://localhost:8080/",
          "height": 34
        },
        "outputId": "1384e0db-84c7-40f5-d5df-4c7027b95cc1"
      },
      "source": [
        "df.shape\n"
      ],
      "execution_count": 45,
      "outputs": [
        {
          "output_type": "execute_result",
          "data": {
            "text/plain": [
              "(168, 2)"
            ]
          },
          "metadata": {
            "tags": []
          },
          "execution_count": 45
        }
      ]
    },
    {
      "cell_type": "code",
      "metadata": {
        "id": "_AJV3Ed3LnVo",
        "colab_type": "code",
        "colab": {}
      },
      "source": [
        "from fbprophet.diagnostics import cross_validation\n"
      ],
      "execution_count": 46,
      "outputs": []
    },
    {
      "cell_type": "code",
      "metadata": {
        "id": "Iy8XBqZILpN9",
        "colab_type": "code",
        "colab": {
          "base_uri": "https://localhost:8080/",
          "height": 83,
          "referenced_widgets": [
            "bfc18831e6eb444daf6c7497b0c3395e",
            "4de2c25af64b4b6f9ae4c0856160cedc",
            "dea077057ff541c2a36f665477915cd7",
            "311c6c703c5645258e71c269fcaaf1f5",
            "64c18b704485403f9d63056665e0bc30",
            "fb7b90f26a60459a9106605271b57f0c",
            "d5c1a448d9524edd94983fa93081554d",
            "b1b9e5b4a3544021acfaf0e148924b8f"
          ]
        },
        "outputId": "c8cbe395-429c-4e64-9f47-6c2f554ecd2b"
      },
      "source": [
        "df_cv=cross_validation(model,horizon=\"365 days\",period='180 days',initial='1095 days')\n"
      ],
      "execution_count": 47,
      "outputs": [
        {
          "output_type": "stream",
          "text": [
            "INFO:fbprophet:Making 21 forecasts with cutoffs between 1965-01-22 00:00:00 and 1974-12-01 00:00:00\n"
          ],
          "name": "stderr"
        },
        {
          "output_type": "display_data",
          "data": {
            "application/vnd.jupyter.widget-view+json": {
              "model_id": "bfc18831e6eb444daf6c7497b0c3395e",
              "version_minor": 0,
              "version_major": 2
            },
            "text/plain": [
              "HBox(children=(FloatProgress(value=0.0, max=21.0), HTML(value='')))"
            ]
          },
          "metadata": {
            "tags": []
          }
        },
        {
          "output_type": "stream",
          "text": [
            "\n"
          ],
          "name": "stdout"
        }
      ]
    },
    {
      "cell_type": "code",
      "metadata": {
        "id": "F_6uKZK-LtSe",
        "colab_type": "code",
        "colab": {
          "base_uri": "https://localhost:8080/",
          "height": 204
        },
        "outputId": "62e23a3e-9eb6-4fa4-ad7b-bce71ab9c73d"
      },
      "source": [
        "df.head()\n"
      ],
      "execution_count": 48,
      "outputs": [
        {
          "output_type": "execute_result",
          "data": {
            "text/html": [
              "<div>\n",
              "<style scoped>\n",
              "    .dataframe tbody tr th:only-of-type {\n",
              "        vertical-align: middle;\n",
              "    }\n",
              "\n",
              "    .dataframe tbody tr th {\n",
              "        vertical-align: top;\n",
              "    }\n",
              "\n",
              "    .dataframe thead th {\n",
              "        text-align: right;\n",
              "    }\n",
              "</style>\n",
              "<table border=\"1\" class=\"dataframe\">\n",
              "  <thead>\n",
              "    <tr style=\"text-align: right;\">\n",
              "      <th></th>\n",
              "      <th>ds</th>\n",
              "      <th>y</th>\n",
              "    </tr>\n",
              "  </thead>\n",
              "  <tbody>\n",
              "    <tr>\n",
              "      <th>0</th>\n",
              "      <td>1962-01</td>\n",
              "      <td>589.0</td>\n",
              "    </tr>\n",
              "    <tr>\n",
              "      <th>1</th>\n",
              "      <td>1962-02</td>\n",
              "      <td>561.0</td>\n",
              "    </tr>\n",
              "    <tr>\n",
              "      <th>2</th>\n",
              "      <td>1962-03</td>\n",
              "      <td>640.0</td>\n",
              "    </tr>\n",
              "    <tr>\n",
              "      <th>3</th>\n",
              "      <td>1962-04</td>\n",
              "      <td>656.0</td>\n",
              "    </tr>\n",
              "    <tr>\n",
              "      <th>4</th>\n",
              "      <td>1962-05</td>\n",
              "      <td>727.0</td>\n",
              "    </tr>\n",
              "  </tbody>\n",
              "</table>\n",
              "</div>"
            ],
            "text/plain": [
              "        ds      y\n",
              "0  1962-01  589.0\n",
              "1  1962-02  561.0\n",
              "2  1962-03  640.0\n",
              "3  1962-04  656.0\n",
              "4  1962-05  727.0"
            ]
          },
          "metadata": {
            "tags": []
          },
          "execution_count": 48
        }
      ]
    },
    {
      "cell_type": "code",
      "metadata": {
        "id": "a1BVtuOSMJbe",
        "colab_type": "code",
        "colab": {
          "base_uri": "https://localhost:8080/",
          "height": 204
        },
        "outputId": "dd717dd1-47de-403d-8fcb-692595a4aa3d"
      },
      "source": [
        "df_cv.head()\n"
      ],
      "execution_count": 49,
      "outputs": [
        {
          "output_type": "execute_result",
          "data": {
            "text/html": [
              "<div>\n",
              "<style scoped>\n",
              "    .dataframe tbody tr th:only-of-type {\n",
              "        vertical-align: middle;\n",
              "    }\n",
              "\n",
              "    .dataframe tbody tr th {\n",
              "        vertical-align: top;\n",
              "    }\n",
              "\n",
              "    .dataframe thead th {\n",
              "        text-align: right;\n",
              "    }\n",
              "</style>\n",
              "<table border=\"1\" class=\"dataframe\">\n",
              "  <thead>\n",
              "    <tr style=\"text-align: right;\">\n",
              "      <th></th>\n",
              "      <th>ds</th>\n",
              "      <th>yhat</th>\n",
              "      <th>yhat_lower</th>\n",
              "      <th>yhat_upper</th>\n",
              "      <th>y</th>\n",
              "      <th>cutoff</th>\n",
              "    </tr>\n",
              "  </thead>\n",
              "  <tbody>\n",
              "    <tr>\n",
              "      <th>0</th>\n",
              "      <td>1965-02-01</td>\n",
              "      <td>630.734519</td>\n",
              "      <td>629.073357</td>\n",
              "      <td>632.377087</td>\n",
              "      <td>622.0</td>\n",
              "      <td>1965-01-22</td>\n",
              "    </tr>\n",
              "    <tr>\n",
              "      <th>1</th>\n",
              "      <td>1965-03-01</td>\n",
              "      <td>715.209269</td>\n",
              "      <td>709.447102</td>\n",
              "      <td>721.399599</td>\n",
              "      <td>709.0</td>\n",
              "      <td>1965-01-22</td>\n",
              "    </tr>\n",
              "    <tr>\n",
              "      <th>2</th>\n",
              "      <td>1965-04-01</td>\n",
              "      <td>738.046179</td>\n",
              "      <td>726.027108</td>\n",
              "      <td>749.808996</td>\n",
              "      <td>722.0</td>\n",
              "      <td>1965-01-22</td>\n",
              "    </tr>\n",
              "    <tr>\n",
              "      <th>3</th>\n",
              "      <td>1965-05-01</td>\n",
              "      <td>809.508773</td>\n",
              "      <td>789.525744</td>\n",
              "      <td>829.647126</td>\n",
              "      <td>782.0</td>\n",
              "      <td>1965-01-22</td>\n",
              "    </tr>\n",
              "    <tr>\n",
              "      <th>4</th>\n",
              "      <td>1965-06-01</td>\n",
              "      <td>778.278652</td>\n",
              "      <td>748.474761</td>\n",
              "      <td>808.249442</td>\n",
              "      <td>756.0</td>\n",
              "      <td>1965-01-22</td>\n",
              "    </tr>\n",
              "  </tbody>\n",
              "</table>\n",
              "</div>"
            ],
            "text/plain": [
              "          ds        yhat  yhat_lower  yhat_upper      y     cutoff\n",
              "0 1965-02-01  630.734519  629.073357  632.377087  622.0 1965-01-22\n",
              "1 1965-03-01  715.209269  709.447102  721.399599  709.0 1965-01-22\n",
              "2 1965-04-01  738.046179  726.027108  749.808996  722.0 1965-01-22\n",
              "3 1965-05-01  809.508773  789.525744  829.647126  782.0 1965-01-22\n",
              "4 1965-06-01  778.278652  748.474761  808.249442  756.0 1965-01-22"
            ]
          },
          "metadata": {
            "tags": []
          },
          "execution_count": 49
        }
      ]
    },
    {
      "cell_type": "markdown",
      "metadata": {
        "id": "fXqiiqc8MShP",
        "colab_type": "text"
      },
      "source": [
        "####Obtaining the Performance Metrics¶\n",
        "We use the performance_metrics utility to compute the Mean Squared Error(MSE),Root Mean Squared Error(RMSE),Mean Absolute Error(MAE), Mean Absolute Percentage Error(MAPE) and the coverage of the the yhat_lower and yhat_upper estimates."
      ]
    },
    {
      "cell_type": "code",
      "metadata": {
        "id": "WGRxy658MWp_",
        "colab_type": "code",
        "colab": {
          "base_uri": "https://localhost:8080/",
          "height": 204
        },
        "outputId": "a5ad6200-c99d-4cf3-ad72-7f916b14a32f"
      },
      "source": [
        "from fbprophet.diagnostics import performance_metrics\n",
        "df_performance=performance_metrics(df_cv)\n",
        "df_performance.head()"
      ],
      "execution_count": 50,
      "outputs": [
        {
          "output_type": "execute_result",
          "data": {
            "text/html": [
              "<div>\n",
              "<style scoped>\n",
              "    .dataframe tbody tr th:only-of-type {\n",
              "        vertical-align: middle;\n",
              "    }\n",
              "\n",
              "    .dataframe tbody tr th {\n",
              "        vertical-align: top;\n",
              "    }\n",
              "\n",
              "    .dataframe thead th {\n",
              "        text-align: right;\n",
              "    }\n",
              "</style>\n",
              "<table border=\"1\" class=\"dataframe\">\n",
              "  <thead>\n",
              "    <tr style=\"text-align: right;\">\n",
              "      <th></th>\n",
              "      <th>horizon</th>\n",
              "      <th>mse</th>\n",
              "      <th>rmse</th>\n",
              "      <th>mae</th>\n",
              "      <th>mape</th>\n",
              "      <th>mdape</th>\n",
              "      <th>coverage</th>\n",
              "    </tr>\n",
              "  </thead>\n",
              "  <tbody>\n",
              "    <tr>\n",
              "      <th>0</th>\n",
              "      <td>38 days</td>\n",
              "      <td>255.110328</td>\n",
              "      <td>15.972174</td>\n",
              "      <td>12.522709</td>\n",
              "      <td>0.016138</td>\n",
              "      <td>0.014043</td>\n",
              "      <td>0.32</td>\n",
              "    </tr>\n",
              "    <tr>\n",
              "      <th>1</th>\n",
              "      <td>41 days</td>\n",
              "      <td>253.085086</td>\n",
              "      <td>15.908648</td>\n",
              "      <td>12.440669</td>\n",
              "      <td>0.016069</td>\n",
              "      <td>0.014043</td>\n",
              "      <td>0.32</td>\n",
              "    </tr>\n",
              "    <tr>\n",
              "      <th>2</th>\n",
              "      <td>42 days</td>\n",
              "      <td>267.466632</td>\n",
              "      <td>16.354407</td>\n",
              "      <td>12.890051</td>\n",
              "      <td>0.016696</td>\n",
              "      <td>0.014071</td>\n",
              "      <td>0.32</td>\n",
              "    </tr>\n",
              "    <tr>\n",
              "      <th>3</th>\n",
              "      <td>43 days</td>\n",
              "      <td>267.960409</td>\n",
              "      <td>16.369496</td>\n",
              "      <td>13.005926</td>\n",
              "      <td>0.016878</td>\n",
              "      <td>0.014071</td>\n",
              "      <td>0.32</td>\n",
              "    </tr>\n",
              "    <tr>\n",
              "      <th>4</th>\n",
              "      <td>46 days</td>\n",
              "      <td>252.637615</td>\n",
              "      <td>15.894578</td>\n",
              "      <td>12.615442</td>\n",
              "      <td>0.016331</td>\n",
              "      <td>0.014071</td>\n",
              "      <td>0.32</td>\n",
              "    </tr>\n",
              "  </tbody>\n",
              "</table>\n",
              "</div>"
            ],
            "text/plain": [
              "  horizon         mse       rmse        mae      mape     mdape  coverage\n",
              "0 38 days  255.110328  15.972174  12.522709  0.016138  0.014043      0.32\n",
              "1 41 days  253.085086  15.908648  12.440669  0.016069  0.014043      0.32\n",
              "2 42 days  267.466632  16.354407  12.890051  0.016696  0.014071      0.32\n",
              "3 43 days  267.960409  16.369496  13.005926  0.016878  0.014071      0.32\n",
              "4 46 days  252.637615  15.894578  12.615442  0.016331  0.014071      0.32"
            ]
          },
          "metadata": {
            "tags": []
          },
          "execution_count": 50
        }
      ]
    },
    {
      "cell_type": "code",
      "metadata": {
        "id": "IzatQ2DHMbLz",
        "colab_type": "code",
        "colab": {
          "base_uri": "https://localhost:8080/",
          "height": 388
        },
        "outputId": "f036d4d1-d15b-4b11-e76d-6259fab8f33b"
      },
      "source": [
        "from fbprophet.plot import plot_cross_validation_metric\n",
        "fig=plot_cross_validation_metric(df_cv,metric='rmse')\n"
      ],
      "execution_count": 51,
      "outputs": [
        {
          "output_type": "display_data",
          "data": {
            "image/png": "[encoded data removed]",
            "text/plain": [
              "<Figure size 720x432 with 1 Axes>"
            ]
          },
          "metadata": {
            "tags": []
          }
        }
      ]
    },
    {
      "cell_type": "code",
      "metadata": {
        "id": "aHbfDeS0Meb0",
        "colab_type": "code",
        "colab": {}
      },
      "source": [
        ""
      ],
      "execution_count": null,
      "outputs": []
    }
  ]
}